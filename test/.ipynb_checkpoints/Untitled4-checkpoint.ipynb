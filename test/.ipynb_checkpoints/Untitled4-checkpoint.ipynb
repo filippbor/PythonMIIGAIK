{
 "cells": [
  {
   "cell_type": "code",
   "execution_count": 1,
   "metadata": {},
   "outputs": [
    {
     "name": "stdout",
     "output_type": "stream",
     "text": [
      "мой список  [1, 2, 3, 4, 5, 6] в нем  6 элементов\n",
      "сумма чисел в списке 21\n",
      "удалил первый элемент, теперь список стал таким:  [2, -3, 4, 5, 6] сумма теперь  14\n",
      "количество элементов стало 5\n",
      "последний элемент списка:  6\n"
     ]
    }
   ],
   "source": [
    "list = [1,2,3,4,5,6]\n",
    "print('мой список ',list,'в нем ',len(list),'элементов')\n",
    "a = sum(list)\n",
    "print('сумма чисел в списке', a)\n",
    "list[2]= -list[2]\n",
    "\n",
    "del(list[0])\n",
    "d = sum(list)\n",
    "print('удалил первый элемент, теперь список стал таким: ',list,'сумма теперь ', d)\n",
    "e = len(list)\n",
    "print('количество элементов стало', e)\n",
    "print('последний элемент списка: ', list[4])"
   ]
  },
  {
   "cell_type": "code",
   "execution_count": null,
   "metadata": {},
   "outputs": [],
   "source": []
  }
 ],
 "metadata": {
  "kernelspec": {
   "display_name": "Python 3",
   "language": "python",
   "name": "python3"
  },
  "language_info": {
   "codemirror_mode": {
    "name": "ipython",
    "version": 3
   },
   "file_extension": ".py",
   "mimetype": "text/x-python",
   "name": "python",
   "nbconvert_exporter": "python",
   "pygments_lexer": "ipython3",
   "version": "3.7.0"
  }
 },
 "nbformat": 4,
 "nbformat_minor": 2
}
