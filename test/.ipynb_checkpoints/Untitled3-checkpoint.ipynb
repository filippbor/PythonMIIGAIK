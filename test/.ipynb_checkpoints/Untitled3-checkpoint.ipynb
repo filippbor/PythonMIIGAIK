{
 "cells": [
  {
   "cell_type": "code",
   "execution_count": 1,
   "metadata": {},
   "outputs": [
    {
     "name": "stdout",
     "output_type": "stream",
     "text": [
      "6\n"
     ]
    }
   ],
   "source": [
    "list = [1,2,3,4,5,6]\n",
    "a = sum(list)\n",
    "b = -list[2]\n",
    "del(list[0])\n",
    "d = sum(list)\n",
    "e = len(list)\n",
    "print(list[4])"
   ]
  },
  {
   "cell_type": "code",
   "execution_count": 2,
   "metadata": {},
   "outputs": [
    {
     "name": "stdout",
     "output_type": "stream",
     "text": [
      "21\n",
      "-3\n",
      "20\n",
      "5\n",
      "6\n"
     ]
    }
   ],
   "source": [
    "list = [1,2,3,4,5,6]\n",
    "print('мой список ',list,'в нем ',len(list),'элементов')\n",
    "a = sum(list)\n",
    "print('сумма чисел в списке', a)\n",
    "b = -list[2]\n",
    "print(b)\n",
    "del(list[0])\n",
    "d = sum(list)\n",
    "print('удалил первый элемент, теперь список стал таким: ',list,'сумма теперь ', d)\n",
    "e = len(list)\n",
    "print(e)\n",
    "print(list[4])"
   ]
  },
  {
   "cell_type": "code",
   "execution_count": null,
   "metadata": {},
   "outputs": [],
   "source": []
  }
 ],
 "metadata": {
  "kernelspec": {
   "display_name": "Python 3",
   "language": "python",
   "name": "python3"
  },
  "language_info": {
   "codemirror_mode": {
    "name": "ipython",
    "version": 3
   },
   "file_extension": ".py",
   "mimetype": "text/x-python",
   "name": "python",
   "nbconvert_exporter": "python",
   "pygments_lexer": "ipython3",
   "version": "3.7.0"
  }
 },
 "nbformat": 4,
 "nbformat_minor": 2
}
