{
 "cells": [
  {
   "cell_type": "markdown",
   "metadata": {},
   "source": [
    "## Домашняя работа 4"
   ]
  },
  {
   "cell_type": "markdown",
   "metadata": {},
   "source": [
    "***В сумме за домашнюю работу вы можете получить 17 баллов.*** <br> \n",
    "***Итоговая оценка будет равна доле полученных баллов от общей суммы x10.*** \n",
    "<p>\n",
    "<font size='3' color=\"B3000C\">Ноутбук (файл в расширением .ipynb) выложите на свой git и пришлите ссылку на почту python.in.miigaik@gmail.com.<br> В теме письма укажите номер домашней работы и номер группы: HW... , Group... .</font>\n",
    "</p>"
   ]
  },
  {
   "cell_type": "markdown",
   "metadata": {},
   "source": [
    "### Задача 1 «Длина отрезка»   (1 балл)\n",
    "Пользователь с клавиатуры вводит четыре действительных числа: x1, y1, x2, y2. Напишите функцию distance(x1, y1, x2, y2), вычисляющая расстояние между точкой (x1,y1) и (x2,y2). \n",
    "<img src=\"http://www.codecogs.com/gif.latex?d=\\sqrt{(x_2-x_1)^2+(y_2-y_1)^2}\">"
   ]
  },
  {
   "cell_type": "code",
   "execution_count": 4,
   "metadata": {},
   "outputs": [],
   "source": [
    "def r(x1,y1,x2,y2):\n",
    "    d=((x2-x1)**2+(y2-y1)**2)**(1/2)\n",
    "    print(\"Расстояние между точкой с координатами \"+'('+str(x1)+','+str(y1)+') и точкой с координатами '+'('+str(x2)+','+str(y2)+') =',d)"
   ]
  },
  {
   "cell_type": "code",
   "execution_count": 6,
   "metadata": {},
   "outputs": [
    {
     "name": "stdout",
     "output_type": "stream",
     "text": [
      "Расстояние между точкой с координатами (-5,0) и точкой с координатами (5,0) = 10.0\n"
     ]
    }
   ],
   "source": [
    "r(-5,0,5,0)"
   ]
  },
  {
   "cell_type": "markdown",
   "metadata": {},
   "source": [
    "### Задача 2 (2 балла)\n",
    "Вам дается два списка строк. Будем рассматривать следующие разности:  $$|len(a) - len(b)|,$$ где a - элемент из первого списка, а b - из второго. <br>\n",
    "Напишите функцию, которая возвращает наибольшую такую разность.\n",
    "На вход такой функции подается два списка строк.\n",
    "\n",
    "** Подсказка **\n",
    "abs() - функция нахождения модуля."
   ]
  },
  {
   "cell_type": "code",
   "execution_count": 10,
   "metadata": {},
   "outputs": [],
   "source": [
    "a = ['Духовной', 'жаждою', 'томим', 'в', 'пустыне', 'мрачной', 'я', 'влачился']\n",
    "b = ['Я', 'вас', 'любил', 'любовь', 'еще', 'быть', 'может', 'В', 'Душе', 'моей', 'угасла', 'не', 'совсем']"
   ]
  },
  {
   "cell_type": "code",
   "execution_count": 11,
   "metadata": {},
   "outputs": [],
   "source": [
    "def n2(x1,x2):\n",
    "    g=[abs(len(i)-len(j)) for i in x1 for j in x2]      \n",
    "    max=g[0]\n",
    "    for i in g:\n",
    "        if i>max:\n",
    "            max=i\n",
    "    print(max)"
   ]
  },
  {
   "cell_type": "code",
   "execution_count": 12,
   "metadata": {},
   "outputs": [
    {
     "name": "stdout",
     "output_type": "stream",
     "text": [
      "7\n"
     ]
    }
   ],
   "source": [
    "n2(a,b)"
   ]
  },
  {
   "cell_type": "markdown",
   "metadata": {},
   "source": [
    "### Задача 3 (1 балл)\n",
    "Вам дается строка в которой присутвуют подряд идущие одинаковые символы. Напишите функцию, которая принимает строку и возвращает ее в \"нормальном\" виде: то есть из подряд идущих одинаковых символов оставляет только один.\n",
    "\n",
    "**Пример **<br>\n",
    "'Привеееееееет!!! Я тттвоя новаяяя стррока)))))' -> 'Привет! Я твоя новая строка)'\n"
   ]
  },
  {
   "cell_type": "code",
   "execution_count": 15,
   "metadata": {},
   "outputs": [],
   "source": [
    "def n3(x1):\n",
    "    g=[x1[i] for i in range(len(x1)-1) if x1[i]!=x1[(i+1)]]\n",
    "    print(''.join(g)+str(x1[len(x1)-1]))"
   ]
  },
  {
   "cell_type": "code",
   "execution_count": 16,
   "metadata": {},
   "outputs": [
    {
     "name": "stdout",
     "output_type": "stream",
     "text": [
      "Введите строку: Привеееееееет!!! Я тттвоя новаяяя стррока)))))\n",
      "Привет! Я твоя новая строка)\n"
     ]
    }
   ],
   "source": [
    "n3(input('Введите строку: '))"
   ]
  },
  {
   "cell_type": "markdown",
   "metadata": {},
   "source": [
    "### Задача 4 (1 балл)\n",
    "Напишите функцию, на вход которой подается строка и которая должна вернуть строку - часть алфавита, в которой буква будет заглавной, если ее не было в строке,  и маленькой, если она была в строке. При этом нужно вывести ту часть алфавита, которая начинается с первого символа присутствующего в строке и заканчивается также символом присутствующем в строке.\n",
    "\n",
    "** Подсказка**<br>\n",
    "Чтобы не писать алфавиты вручную, воспользуйтесь функциями ord() и chr()? кторые по заданным символам или номерам, соответственно, выводят символ или его номер.<br>\n",
    "ord('a') == 97, chr(97) == 'a'\n",
    "\n",
    "**Пример**<br>\n",
    "***Вход***<br>\n",
    "\"holly\"<br>\n",
    "***Выход***<br>\n",
    "\"hIJKlMNoPQRSTUVWXy\""
   ]
  },
  {
   "cell_type": "code",
   "execution_count": 17,
   "metadata": {},
   "outputs": [],
   "source": [
    "def n4(x):\n",
    "    max=ord(x[0])\n",
    "    min=ord(x[0])\n",
    "    for i in x:\n",
    "        if ord(i)>max:\n",
    "            max=ord(i)\n",
    "        elif ord(i)<min:\n",
    "            min=ord(i)\n",
    "    g=[(chr(j) if str(chr(j)) in x else chr(j).upper()) for j in range(min,max+1)]\n",
    "    print(''.join(g))"
   ]
  },
  {
   "cell_type": "code",
   "execution_count": 19,
   "metadata": {},
   "outputs": [
    {
     "name": "stdout",
     "output_type": "stream",
     "text": [
      "Введите строку: holly\n",
      "hIJKlMNoPQRSTUVWXy\n"
     ]
    }
   ],
   "source": [
    "n4(input('Введите строку: '))"
   ]
  },
  {
   "cell_type": "markdown",
   "metadata": {},
   "source": [
    "### Задача 5 (2 балла)\n",
    "Напишите функцию - кассовый аппарат, на вход которой подается содержимое кассы в виде словаря, где ключи - номиналы купюр, а значения - количества купюр данного номинала, находящиеся в кассе. Также на вход функции подается число - сдача, которую необходимо выдать из кассы. Если в кассе найдется такой набор купюр, чтобы выдать запрошенную сдачу - функция должна вернть True, если нет - False.<br>\n",
    "Купюры могут быть номиналом только 25, 50 и 100.\n",
    "\n",
    "**Пример** <br>\n",
    "cashbox = {25:1, 50:2, 100:1} <br>\n",
    "give_change(cashbox, 300) -> False  <br>\n",
    "give_change(cashbox, 75) -> True <br>\n",
    "give_change(cashbox, 0) -> True  <br>"
   ]
  },
  {
   "cell_type": "code",
   "execution_count": 23,
   "metadata": {},
   "outputs": [
    {
     "name": "stdout",
     "output_type": "stream",
     "text": [
      "Введите сдачу: 175\n"
     ]
    },
    {
     "data": {
      "text/plain": [
       "True"
      ]
     },
     "execution_count": 23,
     "metadata": {},
     "output_type": "execute_result"
    }
   ],
   "source": [
    "cashbox = {25:1, 50:2, 100:1}\n",
    "def n5 ( cash, num ):\n",
    "    summ = 0\n",
    "    sd = num\n",
    "    end = ''\n",
    "    cashRevers = sorted(cash.keys(), reverse=True)\n",
    "    for i in cashRevers:\n",
    "        for s in range(cash[i]): \n",
    "            if sd == 0:\n",
    "                end = True\n",
    "            elif (sd - i) < 0:\n",
    "                end = False\n",
    "                break \n",
    "            elif (sd - i) > 0:\n",
    "                end = False\n",
    "                sd -= i\n",
    "            elif (sd - i) == 0:\n",
    "                sd -= i\n",
    "                end = True\n",
    "    return(end)\n",
    "\n",
    "n5(cashbox, int(input('Введите сдачу: ')))"
   ]
  },
  {
   "cell_type": "markdown",
   "metadata": {},
   "source": [
    "### Задача 6 (1 балл)\n",
    "Иннокентий работает кассиром в кинотеатре. Билет на любой фильм стоит 25.**-** В кассу выстроилась очередь, у всех купюры номиналом 25, 50 или 100.**-**. В кинотеатре правило: 1 билет в одни руки. У Кеши пустая касса. Сможет ли он обслужить всех людей из очереди (то есть своевременно выдать каждому сдачу)? Люди в очереди местами не меняются.\n",
    "\n",
    "Напишите функцию, на вход которой подается очередь (список из купюр, которые каждый посетитель собирается отдать) и которая возвращает True - если Кеша сможет всех обслужить и False - если нет. <br>\n",
    "P.s. очередь может быть любой длины. <br>\n",
    "P.p.s. используете функцию - кассовый аппарат, который вы написали в прошлом задании. \n",
    "\n",
    "**Пример **<br>\n",
    "Kesha(25, 25, 50) -> True<br>\n",
    "Kesha(25, 100) -> False<br>\n",
    "Kesha(25, 25, 50, 50, 100) -> False<br>"
   ]
  },
  {
   "cell_type": "code",
   "execution_count": 25,
   "metadata": {},
   "outputs": [
    {
     "data": {
      "text/plain": [
       "True"
      ]
     },
     "execution_count": 25,
     "metadata": {},
     "output_type": "execute_result"
    }
   ],
   "source": [
    "def n6 ( cash ):\n",
    "    arr = {}\n",
    "    arr1 = {}\n",
    "    price = 25\n",
    "    for i in cash:\n",
    "        arr[i] = 0\n",
    "    for i in cash:\n",
    "        if i != price:\n",
    "            if kassa(arr, i-price):\n",
    "                arr1 = arr\n",
    "                summ = i\n",
    "                for s, a in arr.items():\n",
    "                    for b in range(a):\n",
    "                        if  summ == price:\n",
    "                            arr1[s] -= 1\n",
    "                            arr = arr1\n",
    "                            arr[i] += 1\n",
    "                            error = True\n",
    "                            break\n",
    "                        if  (summ - s) == price:\n",
    "                            summ -= s\n",
    "                            arr1[s] -= 1\n",
    "                            arr = arr1\n",
    "                            arr[i] += 1\n",
    "                            error = True\n",
    "                            break\n",
    "                        elif (summ - s) > price:\n",
    "                            summ -= s\n",
    "                            arr1[s] -= 1\n",
    "                            error = False\n",
    "                        elif (summ - s) < price:\n",
    "                            error = False\n",
    "                            break\n",
    "            else:\n",
    "                error = False\n",
    "        else:\n",
    "            arr[i] += 1\n",
    "    return error\n",
    "n6((25, 50, 25, 50, 25, 100))"
   ]
  },
  {
   "cell_type": "markdown",
   "metadata": {},
   "source": [
    "### Задача 7 Кегельбан (2 балла)\n",
    "N кеглей выставили в один ряд, занумеровав их слева направо числами от 1 до N. Затем по этому ряду бросили K шаров, при этом i-й шар сбил все кегли с номерами от li до ri включительно. <br>\n",
    "Напишите функцию, которая получает на вход количество кеглей N и количество бросков K, и возвращает последовательность из N символов, где j-й символ есть \"I\", если j-я кегля осталась стоять, или \".\", если j-я кегля была сбита.<br>\n",
    "Броски происходят внутри функции.\n",
    "\n",
    "**Примеры**<br>\n",
    "***Вход***<br>\n",
    "20 3<br>\n",
    "*броски*<br>\n",
    "3 8<br>\n",
    "13 17<br>\n",
    "6 9<br>\n",
    "***Выход***<br>\n",
    "II.......III.....III\n",
    "\n",
    "\n",
    "***Вход*** <br>\n",
    "5 0<br>\n",
    "***Выход*** <br>\n",
    "IIIII"
   ]
  },
  {
   "cell_type": "code",
   "execution_count": 28,
   "metadata": {},
   "outputs": [],
   "source": [
    "def n7(N,k):\n",
    "    a=[\"|\" for i in range(N)]\n",
    "    c=[]\n",
    "    for i in range(k):\n",
    "        for j in range(2):\n",
    "            c.append(int(input('введите диапазон '+(str(i+1))+' броска:')))\n",
    "        a[(c[0]-1):c[1]]='.'*(c[1]-c[0]+1)\n",
    "        c=[]\n",
    "    print(''.join(a))"
   ]
  },
  {
   "cell_type": "code",
   "execution_count": 29,
   "metadata": {},
   "outputs": [
    {
     "name": "stdout",
     "output_type": "stream",
     "text": [
      "введите диапазон 1 броска:5\n",
      "введите диапазон 1 броска:0\n",
      "введите диапазон 2 броска:3\n",
      "введите диапазон 2 броска:8\n",
      "введите диапазон 3 броска:13\n",
      "введите диапазон 3 броска:17\n",
      "||......||||.....|||\n"
     ]
    }
   ],
   "source": [
    "n7(20,3)"
   ]
  },
  {
   "cell_type": "markdown",
   "metadata": {},
   "source": [
    "###### Задача 8 Записная книжка (3 балла)\n",
    "Раньше Ева вела записную книжку хаотично - имена, адреса, номера были перемешаны в строке, но при этом в одной строке записана информация только об одном человеке. Ваша задача написать функцию, которая содержимое книжки переведет словарь со структурой, приведенной в примере. <br>\n",
    "При этом содержимое книжки подается в виде одного элемента типа строка: строчки записной книжки разделяются символом переноса строки \"\\n\", ФИО человека заключено в елочки: <>, номер обязтельно начинается с +, остальное является адресом, элементы отделяются друг от друга двумя пробелами, адрес может быть написан с разрывом. При этом Ева иногда в записях делала пометки в виде \"?\" и \"!\". Эти пометки не должны войти в конечный словарь."
   ]
  },
  {
   "cell_type": "code",
   "execution_count": 2,
   "metadata": {},
   "outputs": [
    {
     "data": {
      "text/plain": [
       "{'Андрей Иванов': {'adress': 'ул. Академика Королева, Москва',\n",
       "  'phone': '+7-123-456-789'},\n",
       " 'Иван Иванов': {'adress': 'Ленинка 10', 'phone': '+1-234-567-8910 123'},\n",
       " 'Никита Иванов': {'adress': 'Екатеринбург, ул.Правды, дом 39',\n",
       "  'phone': '+123-456-789'}}"
      ]
     },
     "execution_count": 2,
     "metadata": {},
     "output_type": "execute_result"
    }
   ],
   "source": [
    "s = '''+1-234-567-8910 123?!  Ленинка 10,  <Иван Иванов>\\n  ул. Академика Королева, <Андрей Иванов>  Москва!  +7-123-456-789\\n<Никита Иванов>  Екатеринбург, ул.Правды,  +123-456-789  ?дом 39'''\n",
    "def n8(s):\n",
    "    s = s.replace('?!', '/')\n",
    "    s = s.replace('!', '/')\n",
    "    s = s.replace('?', '/')\n",
    "    s = s.replace(',', '/')\n",
    "    s = s.replace('>', '>/')\n",
    "    s = s.replace('<', '/<')\n",
    "    s = s.replace('  ', '')\n",
    "    arr = s.split('\\n')\n",
    "    obj = {}\n",
    "    mass = {}\n",
    "    returnMass = {}\n",
    "    for line in arr:\n",
    "        adress = ''\n",
    "        phone = ''\n",
    "        tab = line.split('/')\n",
    "        tab = [x for x in tab if x and x != ' ']\n",
    "        for slic in tab: \n",
    "            if slic[0] == '+':\n",
    "                phone = slic\n",
    "            elif slic[0] == '<':\n",
    "                name = slic\n",
    "                name = name.replace('<', '')\n",
    "                name = name.replace('>', '')\n",
    "            else:\n",
    "                if slic[0] == ' ':\n",
    "                    slic = slic[1:]\n",
    "                adress += slic + ', '\n",
    "        adress = adress[:-2]\n",
    "        obj = {'adress': adress, 'phone':phone}\n",
    "        mass[name] = obj\n",
    "    for key in sorted(mass):\n",
    "        returnMass[key] = mass[key]\n",
    "    return returnMass\n",
    "d = n8(s)     \n",
    "d"
   ]
  },
  {
   "cell_type": "markdown",
   "metadata": {},
   "source": [
    "### Задача 9  «Диагонали, параллельные главной» (1 балл)\n",
    "На вход функции подается число n. Функция должна создать массив $n\\times n$ и заполнить его по следующему правилу. На главной диагонали должны быть записаны числа 0. На двух диагоналях, прилегающих к главной, числа 1. На следующих двух диагоналях числа 2, и т.д.\n",
    "\n",
    "**Пример**<br>\n",
    "***Вход***<br>\n",
    "5<br>\n",
    "***Выход***\t<br>\n",
    "0 1 2 3 4<br>\n",
    "1 0 1 2 3<br>\n",
    "2 1 0 1 2<br>\n",
    "3 2 1 0 1<br>\n",
    "4 3 2 1 0<br>"
   ]
  },
  {
   "cell_type": "code",
   "execution_count": 36,
   "metadata": {},
   "outputs": [],
   "source": [
    "def n9(n):\n",
    "    c=[[0]*n for j in range(n)]\n",
    "    for i in range(n):\n",
    "        for j in range(n):\n",
    "            c[i][j]=abs(i-j)\n",
    "    \n",
    "    for i in c:\n",
    "        print(*i)"
   ]
  },
  {
   "cell_type": "code",
   "execution_count": 38,
   "metadata": {},
   "outputs": [
    {
     "name": "stdout",
     "output_type": "stream",
     "text": [
      "0 1 2 3 4\n",
      "1 0 1 2 3\n",
      "2 1 0 1 2\n",
      "3 2 1 0 1\n",
      "4 3 2 1 0\n"
     ]
    }
   ],
   "source": [
    "n9(5)"
   ]
  },
  {
   "cell_type": "markdown",
   "metadata": {},
   "source": [
    "### Задача 10 Числа Фибоначчи (3 балла)\n",
    "Напишите функцию fib(n), которая по данному целому неотрицательному n возвращает n-e число Фибоначчи. В этой задаче нельзя использовать циклы — используйте рекурсию."
   ]
  },
  {
   "cell_type": "code",
   "execution_count": 43,
   "metadata": {},
   "outputs": [],
   "source": [
    "c=[1,1]\n",
    "def fib(n):  \n",
    "    a=c[-1]\n",
    "    if n==1 or n==2:\n",
    "        return 1\n",
    "    a=a+c[-2]\n",
    "    c.append(a)\n",
    "    if len(c)==n:\n",
    "        return c[-1]\n",
    "    else:\n",
    "        return fib(n)"
   ]
  },
  {
   "cell_type": "code",
   "execution_count": 44,
   "metadata": {},
   "outputs": [
    {
     "data": {
      "text/plain": [
       "21"
      ]
     },
     "execution_count": 44,
     "metadata": {},
     "output_type": "execute_result"
    }
   ],
   "source": [
    "fib(8)"
   ]
  },
  {
   "cell_type": "markdown",
   "metadata": {},
   "source": [
    "### Обратная связь"
   ]
  },
  {
   "cell_type": "markdown",
   "metadata": {},
   "source": [
    "Пожалуйста, пройдите [анкету](https://goo.gl/forms/IeIO2lVd9iY7GN4v2) и оставьте свои впечатления от домашней работы / лекции. Мы очень хотим стать для вас лучше)))"
   ]
  }
 ],
 "metadata": {
  "anaconda-cloud": {},
  "kernelspec": {
   "display_name": "Python 3",
   "language": "python",
   "name": "python3"
  },
  "language_info": {
   "codemirror_mode": {
    "name": "ipython",
    "version": 3
   },
   "file_extension": ".py",
   "mimetype": "text/x-python",
   "name": "python",
   "nbconvert_exporter": "python",
   "pygments_lexer": "ipython3",
   "version": "3.7.0"
  }
 },
 "nbformat": 4,
 "nbformat_minor": 2
}
